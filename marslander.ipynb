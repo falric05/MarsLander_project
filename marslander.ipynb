{
 "cells": [
  {
   "cell_type": "code",
   "execution_count": 7,
   "metadata": {},
   "outputs": [],
   "source": [
    "%matplotlib inline\n",
    "import numpy as np\n",
    "from matplotlib import pyplot as plt\n",
    "from matplotlib.animation import FuncAnimation as anm \n",
    "from svgpathtools import svg2paths\n",
    "from svgpath2mpl import parse_path\n",
    "from turtle import color\n",
    "import os"
   ]
  },
  {
   "cell_type": "code",
   "execution_count": 2,
   "metadata": {},
   "outputs": [
    {
     "data": {
      "text/plain": [
       "'input\\\\ins-1.txt'"
      ]
     },
     "execution_count": 2,
     "metadata": {},
     "output_type": "execute_result"
    }
   ],
   "source": [
    "file = os.path.join('input', 'ins-1.txt')\n",
    "file"
   ]
  },
  {
   "cell_type": "code",
   "execution_count": 3,
   "metadata": {},
   "outputs": [],
   "source": [
    "assert(os.path.exists(file))"
   ]
  },
  {
   "cell_type": "code",
   "execution_count": 4,
   "metadata": {},
   "outputs": [
    {
     "data": {
      "text/plain": [
       "([array([  0, 100]),\n",
       "  array([1000,  500]),\n",
       "  array([1500, 1500]),\n",
       "  array([3000, 1000]),\n",
       "  array([4000,  150]),\n",
       "  array([5500,  150]),\n",
       "  array([6999,  800])],\n",
       " array([2500, 2700,    0,    0,  550,    0,    0]))"
      ]
     },
     "execution_count": 4,
     "metadata": {},
     "output_type": "execute_result"
    }
   ],
   "source": [
    "points=[]\n",
    "f = open(file, \"r\")\n",
    "n = int(f.readline())\n",
    "for i in range(n):\n",
    "    points.append(np.array([int(x) for x in f.readline().split()]))\n",
    "ml = np.array([int(x) for x in f.readline().split()])\n",
    "points, ml"
   ]
  },
  {
   "cell_type": "code",
   "execution_count": 5,
   "metadata": {},
   "outputs": [],
   "source": [
    "def plot_surface(fig, ax):\n",
    "    ax.clear()\n",
    "    ax.set_ylim([0, 3000])\n",
    "    ax.plot([p[0] for p in points],\n",
    "            [p[1] for p in points], color='r')\n",
    "    ax.scatter(ml[0], ml[1], marker='*', s=85, color='purple')\n",
    "    "
   ]
  },
  {
   "cell_type": "code",
   "execution_count": 22,
   "metadata": {},
   "outputs": [],
   "source": [
    "import matplotlib\n",
    "\n",
    "\n",
    "_lander_path = os.path.join('Images', 'lander.svg')\n",
    "assert(os.path.exists(_lander_path))\n",
    "lander_path, attributes = svg2paths(_lander_path)\n",
    "lander_marker = parse_path(attributes[0]['d'])\n",
    "# lander_marker = lander_marker.transformed(matplotlib.transforms.Affine2D().scale(100,100))"
   ]
  },
  {
   "cell_type": "code",
   "execution_count": 11,
   "metadata": {},
   "outputs": [],
   "source": [
    "# def animate_surface(ax, ml):\n",
    "#     ax.clear()\n",
    "#     ax.set_ylim([0, 3000])\n",
    "#     ax.plot([p[0] for p in points],\n",
    "#             [p[1] for p in points], color='r')\n",
    "#     ax.scatter(ml[0], ml[1], marker=lander_marker, s=85, color='purple')"
   ]
  },
  {
   "cell_type": "code",
   "execution_count": 24,
   "metadata": {},
   "outputs": [
    {
     "data": {
      "image/png": "[encoded data removed]",
      "text/plain": [
       "<Figure size 576x288 with 1 Axes>"
      ]
     },
     "metadata": {
      "needs_background": "light"
     },
     "output_type": "display_data"
    }
   ],
   "source": [
    "fig, ax = plt.subplots(1, 1)\n",
    "fig.set_size_inches(8,4)\n",
    "def animate_surface(i):\n",
    "    ax.clear()\n",
    "    ax.set_ylim([0, 3000])\n",
    "    ax.plot([p[0] for p in points],\n",
    "            [p[1] for p in points], color='r')\n",
    "    ax.scatter(ml[0], ml[1], marker=lander_marker, s=1000, color='purple')\n",
    "ani = anm(fig, animate_surface, frames=10, interval=500, repeat=False)\n",
    "ani.save('simple_animation.gif')\n",
    "plt.show()\n",
    "plt.close()"
   ]
  },
  {
   "cell_type": "code",
   "execution_count": null,
   "metadata": {},
   "outputs": [],
   "source": [
    "def animate(i):\n",
    "    ax.clear()\n",
    "    # Get the point from the points list at index i\n",
    "    point = points[i]\n",
    "    # Plot that point using the x and y coordinates\n",
    "    ax.plot(point[0], point[1], color='green', \n",
    "            label='original', marker='o')\n",
    "    # Set the x and y axis to display a fixed range\n",
    "    ax.set_xlim([0, 1])\n",
    "    ax.set_ylim([0, 1])\n",
    "    \n",
    "ani = anm(fig, animate, frames=len(points), interval=500, repeat=False)\n",
    "plt.close()"
   ]
  }
 ],
 "metadata": {
  "kernelspec": {
   "display_name": "Python 3.8.13 ('laai-1')",
   "language": "python",
   "name": "python3"
  },
  "language_info": {
   "codemirror_mode": {
    "name": "ipython",
    "version": 3
   },
   "file_extension": ".py",
   "mimetype": "text/x-python",
   "name": "python",
   "nbconvert_exporter": "python",
   "pygments_lexer": "ipython3",
   "version": "3.8.13"
  },
  "orig_nbformat": 4,
  "vscode": {
   "interpreter": {
    "hash": "f4dd766752a6b96bb9de118cd53ea78f574a9f3ee88e8883fb3438f06c092ff6"
   }
  }
 },
 "nbformat": 4,
 "nbformat_minor": 2
}
